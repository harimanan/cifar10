{
 "cells": [
  {
   "cell_type": "code",
   "execution_count": 22,
   "metadata": {},
   "outputs": [],
   "source": [
    "from six.moves import cPickle as pickle\n",
    "import image\n",
    "import numpy as np\n",
    "import matplotlib.pyplot as plt"
   ]
  },
  {
   "cell_type": "code",
   "execution_count": 17,
   "metadata": {},
   "outputs": [
    {
     "name": "stdout",
     "output_type": "stream",
     "text": [
      "Requirement already satisfied: PIP in c:\\users\\harim\\anaconda3\\lib\\site-packages\n"
     ]
    }
   ],
   "source": [
    "!pip install PIP"
   ]
  },
  {
   "cell_type": "code",
   "execution_count": 23,
   "metadata": {},
   "outputs": [
    {
     "data": {
      "text/plain": [
       "<matplotlib.image.AxesImage at 0x1e443aa8e80>"
      ]
     },
     "execution_count": 23,
     "metadata": {},
     "output_type": "execute_result"
    }
   ],
   "source": [
    "f = open('C:/Training/UIUC-MCS-DS/AML/Week4/HomeWork3/Python/cifar-10-batches-py/data_batch_1', 'rb')\n",
    "\n",
    "tupled_data= pickle.load(f, encoding='bytes')\n",
    "\n",
    "f.close()\n",
    "\n",
    "img = tupled_data[b'data']\n",
    "\n",
    "single_img = np.array(img[5])\n",
    "\n",
    "single_img_reshaped = np.transpose(np.reshape(single_img,(3, 32,32)), (1,2,0))\n",
    "plt.imshow(single_img_reshaped)"
   ]
  },
  {
   "cell_type": "code",
   "execution_count": 24,
   "metadata": {},
   "outputs": [
    {
     "data": {
      "text/plain": [
       "array([[[159, 102, 101],\n",
       "        [150,  91,  95],\n",
       "        [153,  95,  97],\n",
       "        ..., \n",
       "        [ 91,  71,  56],\n",
       "        [ 74,  63,  55],\n",
       "        [ 76,  58,  55]],\n",
       "\n",
       "       [[142,  75,  68],\n",
       "        [146,  72,  66],\n",
       "        [155,  76,  65],\n",
       "        ..., \n",
       "        [127, 105,  71],\n",
       "        [122, 111,  93],\n",
       "        [ 86,  69,  61]],\n",
       "\n",
       "       [[109,  67,  75],\n",
       "        [ 99,  58,  60],\n",
       "        [105,  59,  52],\n",
       "        ..., \n",
       "        [137, 112,  80],\n",
       "        [163, 132, 105],\n",
       "        [ 93,  72,  71]],\n",
       "\n",
       "       ..., \n",
       "       [[244, 129,  70],\n",
       "        [240, 123,  65],\n",
       "        [241, 122,  65],\n",
       "        ..., \n",
       "        [156,  42,  15],\n",
       "        [179,  59,  26],\n",
       "        [200,  73,  36]],\n",
       "\n",
       "       [[246, 133,  74],\n",
       "        [243, 128,  72],\n",
       "        [243, 127,  70],\n",
       "        ..., \n",
       "        [162,  44,  14],\n",
       "        [178,  56,  22],\n",
       "        [192,  65,  27]],\n",
       "\n",
       "       [[246, 139,  82],\n",
       "        [243, 133,  78],\n",
       "        [244, 132,  77],\n",
       "        ..., \n",
       "        [166,  47,  14],\n",
       "        [173,  51,  17],\n",
       "        [182,  57,  19]]], dtype=uint8)"
      ]
     },
     "execution_count": 24,
     "metadata": {},
     "output_type": "execute_result"
    }
   ],
   "source": [
    "single_img_reshaped"
   ]
  }
 ],
 "metadata": {
  "kernelspec": {
   "display_name": "Python 3",
   "language": "python",
   "name": "python3"
  }
 },
 "nbformat": 4,
 "nbformat_minor": 2
}
